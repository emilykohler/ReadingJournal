{
 "cells": [
  {
   "cell_type": "markdown",
   "metadata": {},
   "source": [
    "# Day 3 Reading Journal\n",
    "\n",
    "This journal includes several required exercises, but it is meant to encourage active reading more generally.  You should use the journal to take detailed notes, catalog questions, and explore the content from Think Python deeply.\n",
    "\n",
    "Reading: Think Python Chapter 8, 10.1-10.6\n",
    "\n",
    "**Due: Monday, February 1 at 12 noon**\n",
    "\n"
   ]
  },
  {
   "cell_type": "markdown",
   "metadata": {},
   "source": [
    "# Chapter 8: Strings\n",
    "\n",
    "## 8.1 A String is a Sequence\n",
    "\n",
    "#### - string: sequence of characters\n",
    "#### - fruit = 'banana' => letter = fruit[1] => would print an a (fruit[0] would be a b)\n",
    "\n",
    "## 8.2 len\n",
    "\n",
    "#### - len: built in function that returns the number of letters in a string\n",
    "#### - length = len(fruit) => then to get a: last = fruit(length - 1)\n",
    "#### - if you omit the number berfore the colon the slice starts at the beginning \n",
    "\n",
    "## 8.3 Traversal with a for Loop\n",
    "\n",
    "#### - traversal: the pattern of processing on letter at a time from start to end\n",
    "#### - can be written with while loop or for loop\n",
    "\n",
    "## 8.4 String Slices\n",
    "\n",
    "#### - slice: segment of a string\n",
    "#### - s = 'Monty Python' => print s[0:5] = Monty\n",
    "\n",
    "## 8.5 Strings are Immutable\n",
    "\n",
    "#### - object: same thing as a value\n",
    "#### - item: one value in a sequence\n",
    "#### - strings are immutable (can't change an existing string)\n",
    "\n",
    "## 8.6 Searching\n",
    "\n",
    "#### - search: traversing a sequence and returning when we find what we're looking for\n",
    "\n",
    "## 8.7 Looping and Counting\n",
    "\n",
    "#### - counter: another pattern of computation \n",
    "#### - ex) counts the number of a's in a word\n",
    "\n",
    "## 8.8 String Methods\n",
    "\n",
    "#### - method: takes arguments and returns a value\n",
    "#### - word = 'banana' => new_word = word.upper() => print new_word = BANANA\n",
    "#### - invocation: invoking the word upper ^\n",
    "#### - index = word.find('a') => counts the number of a's\n",
    "\n",
    "## 8.9 The in Operator\n",
    "\n",
    "#### - 'a' in 'banana' = True \n",
    "#### - 'seed' in banana = False\n",
    "\n",
    "## 8.10 String Comparison\n",
    "\n",
    "#### - python handles lowercase letters and uppercase letters differently \n",
    "\n",
    "## 8.11 Debugging\n",
    "\n",
    "#### - useful to draw a state diagram to figure out errors\n",
    "\n",
    "\n",
    "\n",
    "Note: the exercise numbers below match up with the reading for ease of cross referencing."
   ]
  },
  {
   "cell_type": "markdown",
   "metadata": {},
   "source": [
    "### Exercise 1  \n",
    "\n",
    "Write a function that takes a string as an argument and displays the letters backward, one per line."
   ]
  },
  {
   "cell_type": "code",
   "execution_count": 138,
   "metadata": {
    "collapsed": false
   },
   "outputs": [
    {
     "name": "stdout",
     "output_type": "stream",
     "text": [
      "y\n",
      "l\n",
      "i\n",
      "m\n",
      "e\n"
     ]
    }
   ],
   "source": [
    "def letters_backward(word):\n",
    "    length = len(word)\n",
    "    value1 = 0\n",
    "    while value1 != length:\n",
    "        value1 = value1 + 1\n",
    "        letter2 = word[length - value1]\n",
    "        print letter2\n",
    "    \n",
    "letters_backward('emily')"
   ]
  },
  {
   "cell_type": "markdown",
   "metadata": {},
   "source": [
    "**Challenge (optional):** Write a function that translates words into [Pig Latin](https://en.wikipedia.org/wiki/Pig_Latin). \n",
    "\n",
    "**Additional challenge**: Write a function that translates back into English."
   ]
  },
  {
   "cell_type": "code",
   "execution_count": 29,
   "metadata": {
    "collapsed": true
   },
   "outputs": [],
   "source": [
    "def pig_latin(word):\n",
    "    \"\"\"\n",
    "    Return given 'word' translated into Pig Latin\n",
    "    \n",
    "    >>> pig_latin(\"software\")\n",
    "    'oftwaresay'\n",
    "    \"\"\"\n",
    "    pass #TODO: Implement me\n",
    "\n",
    "# If you'd like to actually run the doctests here, you can uncomment the lines below.\n",
    "# We use this slightly more complex method to test only the pig_latin function, without running tests on any other functions that may be in this notebook.\n",
    "#import doctest\n",
    "#doctest.run_docstring_examples(pig_latin, globals())"
   ]
  },
  {
   "cell_type": "markdown",
   "metadata": {},
   "source": [
    "### Exercise 5\n",
    "Encapsulate the character counting code in a fruitful function named `count` that accepts the string and the letter as arguments and returns the count."
   ]
  },
  {
   "cell_type": "code",
   "execution_count": 148,
   "metadata": {
    "collapsed": false
   },
   "outputs": [
    {
     "name": "stdout",
     "output_type": "stream",
     "text": [
      "1\n",
      "2\n",
      "0\n"
     ]
    }
   ],
   "source": [
    "def count(string, letter):\n",
    "    number = 0\n",
    "    for character in string:\n",
    "        if character == letter:\n",
    "            number = number + 1\n",
    "    print number\n",
    "     \n",
    "\n",
    "count('may', 'a')\n",
    "count('vacuum', 'u')\n",
    "count('phone', 'y')\n"
   ]
  },
  {
   "cell_type": "markdown",
   "metadata": {},
   "source": [
    "### Exercise 8\n",
    "Skim the documentation of the Python [string methods](http://docs.python.org/2/library/stdtypes.html#string-methods). Experiment with some of them to make sure you understand how they work. strip, replace, and upper/lower are particularly useful."
   ]
  },
  {
   "cell_type": "code",
   "execution_count": 163,
   "metadata": {
    "collapsed": false
   },
   "outputs": [
    {
     "name": "stdout",
     "output_type": "stream",
     "text": [
      "    lemons1\n",
      "False\n",
      "    lemons1\n",
      "lemons1\n",
      "    LEMONS1\n"
     ]
    }
   ],
   "source": [
    "word = '    lemons1'\n",
    "word2 = 'lemons2'\n",
    "\n",
    "capital = str.capitalize(word) # capitalizes first letter in string\n",
    "print capital\n",
    "\n",
    "abc = str.isalnum(word) # if all characters are alphanumeric and there is at least 1 character\n",
    "print abc\n",
    "\n",
    "lower = str.lower(word) # returns all lower case letters\n",
    "print lower\n",
    "\n",
    "strip = str.strip(word) # removes spaces\n",
    "print strip\n",
    "\n",
    "upper = str.upper(word)\n",
    "print upper\n",
    "\n"
   ]
  },
  {
   "cell_type": "markdown",
   "metadata": {},
   "source": [
    "### Exercise 11  \n",
    "\n",
    "The following functions are all intended to check whether a string contains any lowercase letters, but at least some of them are wrong. For each function, describe what the function actually does (assuming that the parameter is a string)."
   ]
  },
  {
   "cell_type": "code",
   "execution_count": null,
   "metadata": {
    "collapsed": true
   },
   "outputs": [],
   "source": [
    "def any_lowercase1(s):\n",
    "    for c in s:\n",
    "        if c.islower():\n",
    "            return True\n",
    "        else:\n",
    "            return False\n",
    "        \n",
    "# returns true if any letters are lowercase and false otherwise"
   ]
  },
  {
   "cell_type": "markdown",
   "metadata": {},
   "source": [
    " "
   ]
  },
  {
   "cell_type": "code",
   "execution_count": 167,
   "metadata": {
    "collapsed": false
   },
   "outputs": [
    {
     "data": {
      "text/plain": [
       "'True'"
      ]
     },
     "execution_count": 167,
     "metadata": {},
     "output_type": "execute_result"
    }
   ],
   "source": [
    "def any_lowercase2(s):\n",
    "    for c in s:\n",
    "        if 'c'.islower():\n",
    "            return 'True'\n",
    "        else:\n",
    "            return 'False'\n",
    "        \n",
    "# incorrect syntax"
   ]
  },
  {
   "cell_type": "markdown",
   "metadata": {},
   "source": [
    " "
   ]
  },
  {
   "cell_type": "code",
   "execution_count": 175,
   "metadata": {
    "collapsed": false
   },
   "outputs": [
    {
     "data": {
      "text/plain": [
       "False"
      ]
     },
     "execution_count": 175,
     "metadata": {},
     "output_type": "execute_result"
    }
   ],
   "source": [
    "def any_lowercase3(s):\n",
    "    for c in s:\n",
    "        flag = c.islower()\n",
    "    return flag\n",
    "\n",
    "# if there is one uppercase letter, the system doesn't work and reports false"
   ]
  },
  {
   "cell_type": "markdown",
   "metadata": {},
   "source": [
    " "
   ]
  },
  {
   "cell_type": "code",
   "execution_count": 171,
   "metadata": {
    "collapsed": false
   },
   "outputs": [
    {
     "data": {
      "text/plain": [
       "True"
      ]
     },
     "execution_count": 171,
     "metadata": {},
     "output_type": "execute_result"
    }
   ],
   "source": [
    "def any_lowercase4(s):\n",
    "    flag = False\n",
    "    for c in s:\n",
    "        flag = flag or c.islower()\n",
    "    return flag\n",
    "\n",
    "# redefines \"flag\" for true and is otherwise false"
   ]
  },
  {
   "cell_type": "markdown",
   "metadata": {},
   "source": [
    " "
   ]
  },
  {
   "cell_type": "code",
   "execution_count": 173,
   "metadata": {
    "collapsed": false
   },
   "outputs": [
    {
     "data": {
      "text/plain": [
       "False"
      ]
     },
     "execution_count": 173,
     "metadata": {},
     "output_type": "execute_result"
    }
   ],
   "source": [
    "def any_lowercase5(s):\n",
    "    for c in s:\n",
    "        if not c.islower():\n",
    "            return False\n",
    "    return True\n",
    "\n",
    "# if there is one uppercase letter, the system doesn't work and reports false"
   ]
  },
  {
   "cell_type": "markdown",
   "metadata": {},
   "source": [
    " "
   ]
  },
  {
   "cell_type": "markdown",
   "metadata": {},
   "source": [
    "# Chapter 10.1 - 10.6: Lists\n",
    "\n",
    "## 10.1 A List is a Sequence\n",
    "\n",
    "#### - list: sequence of values\n",
    "#### - elements/items: values in a list\n",
    "#### - nested list: a list within another\n",
    "#### ex) [3, 5, 9]\n",
    "\n",
    "## 10.2 Lists are Mutable\n",
    "\n",
    "#### - accessing elements of a list is the same syntax of a string (word[1])\n",
    "#### - lists a mutable - you can change them\n",
    "#### - mapping: relationship between indices and elements\n",
    "\n",
    "## 10.3 Traversing a List\n",
    "\n",
    "#### - most common way to traverse elements of a list is with a for loop\n",
    "#### - combining range and len functions to update\n",
    "\n",
    "## 10.4 List Operations\n",
    "\n",
    "#### - add lists using + sign - multiply with * sign\n",
    "\n",
    "## 10.5 List Slices\n",
    "\n",
    "#### - slice operator works on lists\n",
    "\n",
    "## 10.6 List Methods\n",
    "\n",
    "#### - append adds a new element to the end of a list - listname.append('d')\n",
    "#### - extend takes a list as an arguments and appends all the elements - listname.estend(secondlist)\n",
    "#### - sort arrances from low to high \n",
    "\n",
    "You may want to review [state diagrams in Chapter 2](http://www.greenteapress.com/thinkpython/html/thinkpython003.html#toc13).\n",
    "\n"
   ]
  },
  {
   "cell_type": "markdown",
   "metadata": {},
   "source": [
    "**Quick check:** What type of items can be placed in a list?"
   ]
  },
  {
   "cell_type": "markdown",
   "metadata": {},
   "source": [
    "integers, strings and floats "
   ]
  },
  {
   "cell_type": "markdown",
   "metadata": {},
   "source": [
    "**Quick check:** Give at least one similarity and one difference between lists and strings."
   ]
  },
  {
   "cell_type": "markdown",
   "metadata": {},
   "source": [
    "They both have a sequences of values, but a string contains characters and a list can contain integers, floats and strings."
   ]
  },
  {
   "cell_type": "markdown",
   "metadata": {},
   "source": [
    "### Exercise\n",
    "\n",
    "Write a function `average` that takes a list of numbers and returns their arithmetic mean."
   ]
  },
  {
   "cell_type": "code",
   "execution_count": 27,
   "metadata": {
    "collapsed": false
   },
   "outputs": [
    {
     "data": {
      "text/plain": [
       "4.333333333333333"
      ]
     },
     "execution_count": 27,
     "metadata": {},
     "output_type": "execute_result"
    }
   ],
   "source": [
    "def list_average(list):\n",
    "    length = len(list)\n",
    "    my_sum = 0\n",
    "    for value in list:\n",
    "        my_sum = my_sum + value\n",
    "    return (my_sum / length)\n",
    "      \n",
    "\n",
    "list_average([10.0, 1, 2])"
   ]
  },
  {
   "cell_type": "markdown",
   "metadata": {},
   "source": [
    "### Exercise\n",
    "You own a restaurant, and you need to keep up with the latest food fads or risk losing your fickle customers. You decide to write a Python function that adds the hot new ingredient _du jour_ to each of your regular menu items and returns the trendy new menu."
   ]
  },
  {
   "cell_type": "code",
   "execution_count": 33,
   "metadata": {
    "collapsed": false
   },
   "outputs": [
    {
     "name": "stdout",
     "output_type": "stream",
     "text": [
      "['burger with kale', 'salad with kale', 'ice cream with kale']\n"
     ]
    }
   ],
   "source": [
    "def add_ingredient(menu, ingredient):\n",
    "    \"\"\"\n",
    "    Given a list of string 'menu' items and a trendy 'ingredient' string of the day,\n",
    "    return a new menu list of strings with the ingredient added to each.\n",
    "    \n",
    "    >>> add_ingredient([\"burger\", \"salad\", \"ice cream\"], \"kale\")\n",
    "    ['burger with kale', 'salad with kale', 'ice cream with kale']\n",
    "    \n",
    "    \"\"\"\n",
    "    string = ''\n",
    "    my_list = []\n",
    "    for item in menu:\n",
    "        new_item = item + ' with ' + ingredient\n",
    "        item2 = [new_item]\n",
    "        my_list = my_list + item2 \n",
    "    print my_list\n",
    "\n",
    "    pass    # TODO: Implement me\n",
    "\n",
    "# Running doctests in jupyter notebook:\n",
    "# If you'd like to actually run the doctests here, you can uncomment the lines below.\n",
    "# We use this slightly more complex method to test only the add_ingredient function,\n",
    "# without running tests on any other functions that may be in this notebook.\n",
    "\n",
    "#import doctest\n",
    "#doctest.run_docstring_examples(add_ingredient, globals())\n",
    "\n",
    "add_ingredient(['burger', 'salad', 'ice cream'], 'kale')\n"
   ]
  },
  {
   "cell_type": "markdown",
   "metadata": {},
   "source": [
    "## Reading Journal feedback\n",
    "\n",
    "Have any comments on this Reading Journal? Feel free to leave them below and we'll read them when you submit your journal entry. This could include suggestions to improve the exercises, topics you'd like to see covered in class next time, or other feedback.\n",
    "\n",
    "If you have Python questions or run into problems while completing the reading, you should post them to Piazza instead so you can get a quick response before your journal is submitted."
   ]
  },
  {
   "cell_type": "markdown",
   "metadata": {},
   "source": [
    " "
   ]
  }
 ],
 "metadata": {
  "kernelspec": {
   "display_name": "Python 2",
   "language": "python",
   "name": "python2"
  },
  "language_info": {
   "codemirror_mode": {
    "name": "ipython",
    "version": 2
   },
   "file_extension": ".py",
   "mimetype": "text/x-python",
   "name": "python",
   "nbconvert_exporter": "python",
   "pygments_lexer": "ipython2",
   "version": "2.7.6"
  }
 },
 "nbformat": 4,
 "nbformat_minor": 0
}
