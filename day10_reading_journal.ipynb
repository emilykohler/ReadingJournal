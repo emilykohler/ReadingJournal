{
 "cells": [
  {
   "cell_type": "markdown",
   "metadata": {},
   "source": [
    "# Day 10 Reading Journal\n",
    "\n",
    "This journal includes several required exercises, but it is meant to encourage active reading more generally.  You should use the journal to take detailed notes, catalog questions, and explore the content from Think Python deeply.\n",
    "\n",
    "Reading: Think Python Chapter 16, 17\n",
    "\n",
    "**Due: Thursday, February 25 at 12 noon**\n",
    "\n"
   ]
  },
  {
   "cell_type": "markdown",
   "metadata": {},
   "source": [
    "# Chapter 16: Classes and Functions\n",
    "\n",
    "## 16.1 Time\n",
    "\n",
    "#### - can define a class called Time that records the time of dat\n",
    "#### - then create a new Time object and assign hours, minute and seconds\n",
    "\n",
    "## 16.2 Pure Functions\n",
    "\n",
    "#### - prototyple and patch: starting with a simple model and dealing with issues\n",
    "#### - pure function: does not modify any objects passed to it \n",
    "\n",
    "## 16.3 Modifiers\n",
    "\n",
    "#### - modifiers: function that modifies the objects it get as parameters\n",
    "#### - functional programming style: try to use pure function as often as possible instead of modifiers\n",
    "\n",
    "## 16.4 Prototyping Versus Planning\n",
    "\n",
    "#### - planned development: high-level insight into the problem can make programming easier\n",
    "\n",
    "## 16.5 Debugging\n",
    "\n",
    "#### - invariants: should always be true\n"
   ]
  },
  {
   "cell_type": "markdown",
   "metadata": {
    "is_question": true,
    "problem": "Exercise 16.2"
   },
   "source": [
    "### Exercise 2  \n",
    "\n",
    "Write a boolean function called `is_after` that takes two `Time` objects, `t1` and `t2`, and returns `True` if `t1` follows `t2` chronologically and `False` otherwise. Challenge: don’t use an `if` statement. "
   ]
  },
  {
   "cell_type": "code",
   "execution_count": 5,
   "metadata": {
    "collapsed": false,
    "solution": "Exercise 16.2"
   },
   "outputs": [
    {
     "name": "stdout",
     "output_type": "stream",
     "text": [
      "True\n"
     ]
    }
   ],
   "source": [
    "class Time(object):\n",
    "    \"\"\"\n",
    "    Represents the time of day\n",
    "    attributes: hour, minute, second\n",
    "    \"\"\"\n",
    "    pass\n",
    "   \n",
    "t1 = Time()\n",
    "t1.hour = 2\n",
    "t1.minute = 20\n",
    "t1.second = 20\n",
    "\n",
    "t2 = Time()\n",
    "t2.hour = 5\n",
    "t2.minute = 40\n",
    "t2.second = 40\n",
    "\n",
    "def is_after(t1, t2):\n",
    "    \"\"\"\n",
    "    returns True if t1 follows t2 chronologically and False otherwise\n",
    "    \"\"\"\n",
    "    seconds1 =(((t1.hour*60)+t1.minute)*60)+t1.second\n",
    "    seconds2 =(((t2.hour*60)+t2.minute)*60)+t2.second\n",
    "    return seconds2 > seconds1\n",
    "    \n",
    "  \n",
    "print(is_after(t1, t2))\n"
   ]
  },
  {
   "cell_type": "markdown",
   "metadata": {},
   "source": [
    "# Chapter 17: Classes and Methods\n",
    "\n",
    "## 17.1 Object-Oriented Features\n",
    "\n",
    "#### - object-orietned programming language: it provides features that support object oriented programming\n",
    "#### - methods: a function that is assocaited with a particular class\n",
    "\n",
    "## 17.2 Printing Objects\n",
    "\n",
    "#### - two ways to call a method: classname.functionname(variable) or variable.functionname()\n",
    "#### - subject: the object the method is invoked on\n",
    "\n",
    "## 17.3 Another Example\n",
    "\n",
    "#### - can include multiple methods in one class\n",
    "\n",
    "## 17.4 A More Complicated Example\n",
    "\n",
    "#### - for methods with two arguements, can invoke on one obejct and pass the other as as argument\n",
    "\n",
    "## 17.5 The init Method\n",
    "\n",
    "#### - init method gets invoked when an object is instantiated \n",
    "#### - written like __int__\n",
    "#### - sets default arguments\n",
    "\n",
    "## 17.6 the __str__ method\n",
    "\n",
    "#### - __str__ is useful for debugging\n",
    "\n",
    "## 17.7 Operator Overloading\n",
    "\n",
    "#### - operator overloading: changing the behavior or an operator\n",
    "#### - __add__ can be used to add two separate inputs\n",
    "\n",
    "## 17.8 Type-Based Dispatch\n",
    "\n",
    "#### - isinstance: a function that takes a value and class object and returns True if the value is an instance of the class\n",
    "#### - type_based dispatch: dispatches the computation to different methods based on the type of the arguements \n",
    "\n",
    "## 17.9 Polymorphism \n",
    "\n",
    "#### - polymorphic: function that can work with several types\n",
    "#### - facilitate code reuse\n",
    "\n",
    "## 17.10 Debugging \n",
    "\n",
    "#### - hasattr: built in function that checks for a particular attribute\n",
    "#### - __dict__ is helpful for debugging\n",
    "\n",
    "In chapter 17 we finally have the tools to really put user-defined classes to work! In the exercises for this reading journal, we'll go back and add methods to your `Point` class from Chapter 15 to make it a lot easier to use."
   ]
  },
  {
   "cell_type": "markdown",
   "metadata": {
    "is_question": true,
    "problem": "Exercise 17.2"
   },
   "source": [
    "### Exercise 2  \n",
    "\n",
    "Write an init method for the `Point` class that takes `x` and `y` as optional parameters and assigns them to the corresponding attributes. "
   ]
  },
  {
   "cell_type": "code",
   "execution_count": 19,
   "metadata": {
    "collapsed": false,
    "solution": "Exercise 17.2"
   },
   "outputs": [
    {
     "name": "stdout",
     "output_type": "stream",
     "text": [
      "( 1 , 2 )\n"
     ]
    }
   ],
   "source": [
    "class Point(object):\n",
    "    \"\"\"\n",
    "    prints point coordinates with default values of 0,0\n",
    "    \"\"\"\n",
    "    def __init__(self, p1=0, p2=0):\n",
    "        self.p1 = p1\n",
    "        self.p2 = p2\n",
    "\n",
    "    def print_point(self):\n",
    "        print \"(\", self.p1, \",\",\n",
    "        print self.p2, \")\"\n",
    "\n",
    "point = Point(1, 2)\n",
    "point.print_point()"
   ]
  },
  {
   "cell_type": "markdown",
   "metadata": {
    "is_question": true,
    "problem": "Exercise 17.3"
   },
   "source": [
    "### Exercise 3  \n",
    "\n",
    "Write a str method for the `Point` class. Create a `Point` object and print it."
   ]
  },
  {
   "cell_type": "code",
   "execution_count": 30,
   "metadata": {
    "collapsed": false,
    "solution": "Exercise 17.3"
   },
   "outputs": [
    {
     "name": "stdout",
     "output_type": "stream",
     "text": [
      "(1, 0)\n"
     ]
    },
    {
     "ename": "TypeError",
     "evalue": "__str__ returned non-string (type NoneType)",
     "output_type": "error",
     "traceback": [
      "\u001b[1;31m---------------------------------------------------------------------------\u001b[0m",
      "\u001b[1;31mTypeError\u001b[0m                                 Traceback (most recent call last)",
      "\u001b[1;32m<ipython-input-30-6e1b0c0d5e7a>\u001b[0m in \u001b[0;36m<module>\u001b[1;34m()\u001b[0m\n\u001b[0;32m     13\u001b[0m \u001b[1;33m\u001b[0m\u001b[0m\n\u001b[0;32m     14\u001b[0m \u001b[0mpoint\u001b[0m \u001b[1;33m=\u001b[0m \u001b[0mPoint\u001b[0m\u001b[1;33m(\u001b[0m\u001b[1;36m1\u001b[0m\u001b[1;33m)\u001b[0m\u001b[1;33m\u001b[0m\u001b[0m\n\u001b[1;32m---> 15\u001b[1;33m \u001b[1;32mprint\u001b[0m \u001b[0mpoint\u001b[0m\u001b[1;33m\u001b[0m\u001b[0m\n\u001b[0m",
      "\u001b[1;31mTypeError\u001b[0m: __str__ returned non-string (type NoneType)"
     ]
    }
   ],
   "source": [
    "class Point(object):\n",
    "    \"\"\"\n",
    "    prints point coordinates with default values of 0,0\n",
    "    \"\"\"\n",
    "    def __init__(self, p1=0, p2=0):\n",
    "        self.p1 = p1\n",
    "        self.p2 = p2\n",
    "        \n",
    "    def __str__(self):\n",
    "        return '(%d, %d)' % (self.p1, self.p2)\n",
    "\n",
    "        \n",
    "    \n",
    "point = Point(1)\n",
    "print point"
   ]
  },
  {
   "cell_type": "markdown",
   "metadata": {
    "is_question": true,
    "problem": "Exercise 17.4"
   },
   "source": [
    "### Exercise 4  \n",
    "\n",
    "Write an add method for the `Point` class. Optional: implement operator overloading so that you can use the '+' operator."
   ]
  },
  {
   "cell_type": "code",
   "execution_count": 29,
   "metadata": {
    "collapsed": false,
    "solution": "Exercise 17.4"
   },
   "outputs": [
    {
     "name": "stdout",
     "output_type": "stream",
     "text": [
      "( 3 , 5 )\n",
      "None\n"
     ]
    }
   ],
   "source": [
    "class Point(object):\n",
    "    \"\"\"\n",
    "    prints point coordinates with default values of 0,0\n",
    "    \"\"\"\n",
    "    def __init__(self, p1=0, p2=0):\n",
    "        self.p1 = p1\n",
    "        self.p2 = p2\n",
    "        \n",
    "    def __str__(self):\n",
    "        return '(%d, %d)' % (self.p1, self.p2)\n",
    "    \n",
    "    def __add__(self, other):\n",
    "        point1 = self.p1 + other.p1\n",
    "        point2 = self.p2 + other.p2\n",
    "        print \"(\", point1, \",\",\n",
    "        print point2, \")\"\n",
    "\n",
    "        \n",
    "    \n",
    "first_point = Point(1, 2)\n",
    "second_point = Point(2, 3)\n",
    "print first_point + second_point\n",
    "\n"
   ]
  },
  {
   "cell_type": "markdown",
   "metadata": {
    "is_question": true,
    "problem": "Exercise 17.7"
   },
   "source": [
    "### Exercise 7  \n",
    "\n",
    "This exercise is a cautionary tale about one of the most common, and difficult to find, errors in Python. Write a definition for a class named `Kangaroo` with the following methods:\n",
    "\n",
    " 1. An `__init__` method that initializes an attribute named `pouch_contents` to an empty list.\n",
    " 2. A method named `put_in_pouch` that takes an object of any type and adds it to `pouch_contents`.\n",
    " 3. A `__str__` method that returns a string representation of the `Kangaroo` object and the contents of the pouch.\n",
    "\n",
    "Test your code by creating two `Kangaroo` objects, assigning them to variables named `kanga` and `roo`, and then adding `roo` to the contents of `kanga`’s pouch.\n",
    "\n",
    "Download http://thinkpython.com/code/BadKangaroo.py. It contains a solution to the previous problem with one big, nasty bug. Find and fix the bug.\n",
    "\n",
    "If you get stuck, you can download http://thinkpython.com/code/GoodKangaroo.py, which explains the problem and demonstrates a solution. "
   ]
  },
  {
   "cell_type": "code",
   "execution_count": 54,
   "metadata": {
    "collapsed": false,
    "solution": "Exercise 17.7"
   },
   "outputs": [
    {
     "name": "stdout",
     "output_type": "stream",
     "text": [
      "roo\n"
     ]
    }
   ],
   "source": [
    "class Kangaroo(object):\n",
    "    def __init__(self, pouch_contents=[]):\n",
    "        self.pouch_contents = pouch_contents\n",
    "        \n",
    "    def put_in_pouch(self, something):\n",
    "        self.pouch_contents.append(something)  \n",
    "        \n",
    "    def __str__(self):\n",
    "        return str(self.pouch_contents)\n",
    "    \n",
    "pouch = Kangaroo('kanga')\n",
    "pouch = Kangaroo('roo')\n",
    "print pouch"
   ]
  },
  {
   "cell_type": "markdown",
   "metadata": {
    "is_question": true,
    "problem": "Time spent"
   },
   "source": [
    "## Quick poll\n",
    "About how long did you spend working on this Reading Journal? 2 - 3 hours"
   ]
  },
  {
   "cell_type": "markdown",
   "metadata": {
    "poll_response": true,
    "solution": "Time spent"
   },
   "source": [
    " "
   ]
  },
  {
   "cell_type": "markdown",
   "metadata": {
    "is_question": true,
    "problem": "Feedback"
   },
   "source": [
    "## Reading Journal feedback\n",
    "\n",
    "Have any comments on this Reading Journal? Feel free to leave them below and we'll read them when you submit your journal entry. This could include suggestions to improve the exercises, topics you'd like to see covered in class next time, or other feedback.\n",
    "\n",
    "If you have Python questions or run into problems while completing the reading, you should post them to Piazza instead so you can get a quick response before your journal is submitted."
   ]
  },
  {
   "cell_type": "markdown",
   "metadata": {
    "feedback_response": true,
    "solution": "Feedback"
   },
   "source": [
    " "
   ]
  }
 ],
 "metadata": {
  "celltoolbar": "Edit Metadata",
  "kernelspec": {
   "display_name": "Python 2",
   "language": "python",
   "name": "python2"
  },
  "language_info": {
   "codemirror_mode": {
    "name": "ipython",
    "version": 2
   },
   "file_extension": ".py",
   "mimetype": "text/x-python",
   "name": "python",
   "nbconvert_exporter": "python",
   "pygments_lexer": "ipython2",
   "version": "2.7.6"
  }
 },
 "nbformat": 4,
 "nbformat_minor": 0
}
