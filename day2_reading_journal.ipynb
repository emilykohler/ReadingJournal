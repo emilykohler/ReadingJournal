{
 "cells": [
  {
   "cell_type": "markdown",
   "metadata": {},
   "source": [
    "# Day 2 Reading Journal\n",
    "\n",
    "This journal includes several required exercises, but it is meant to encourage active reading more generally.  You should use the journal to take detailed notes, catalog questions, and explore the content from Think Python deeply.\n",
    "\n",
    "Reading: Think Python Chapter 6.1-6.4, 7\n",
    "\n",
    "**Due: Thursday, January 28 at 12 noon**\n",
    "\n"
   ]
  },
  {
   "cell_type": "markdown",
   "metadata": {},
   "source": [
    "# Chapter 6.1-6.4: Fruitful Functions\n",
    "\n",
    "## 6.1 Return Values\n",
    "\n",
    "#### - fruitful functions: the return statement has an expression\n",
    "#### - temporary variables make debugging easier\n",
    "#### - dead code: code that is after the return statement or is never reached\n",
    "#### - none is the absolute value of zero\n",
    "\n",
    "## 6.2 Incremental Development \n",
    "\n",
    "#### - incremental development is used to avoid long debugging by only making small peices of code at a time\n",
    "#### - scaffolding is helpful for building working code but should be taken out of the final version\n",
    "\n",
    "## 6.3 Composition\n",
    "\n",
    "#### - composition: ability to make one function within another\n",
    "\n",
    "## 6.4 Boolean Functions\n",
    "\n",
    "#### - often have name that sound like yes/no questions like (is_triangle, or is_divisible)\n",
    "#### - often use conditionals (if, else, etc)\n",
    "\n"
   ]
  },
  {
   "cell_type": "markdown",
   "metadata": {},
   "source": [
    "**Quick check:** What is a _fruitful function_? \n",
    "#### the return statement has an expression "
   ]
  },
  {
   "cell_type": "markdown",
   "metadata": {},
   "source": [
    " "
   ]
  },
  {
   "cell_type": "markdown",
   "metadata": {},
   "source": [
    "### Exercise 1  \n",
    "Write a `compare` function that returns `1` if `x > y`, `0` if `x == y`, and `-1` if `x < y`."
   ]
  },
  {
   "cell_type": "code",
   "execution_count": 9,
   "metadata": {
    "collapsed": false
   },
   "outputs": [
    {
     "name": "stdout",
     "output_type": "stream",
     "text": [
      "1\n",
      "0\n",
      "-1\n"
     ]
    }
   ],
   "source": [
    "def compare_function(x, y):\n",
    "    if x > y:\n",
    "        print(1)\n",
    "    elif x == y:\n",
    "        print(0)\n",
    "    elif x < y:\n",
    "        print(-1)\n",
    "    \n",
    "compare_function(3, 2)\n",
    "compare_function(3, 3)\n",
    "compare_function(2, 3)"
   ]
  },
  {
   "cell_type": "markdown",
   "metadata": {},
   "source": [
    "**Quick check:** Modify the `absolute_value` function so that it returns the correct result for all integer inputs."
   ]
  },
  {
   "cell_type": "code",
   "execution_count": 2,
   "metadata": {
    "collapsed": true
   },
   "outputs": [],
   "source": [
    "def absolute_value(x):\n",
    "    if x < 0:\n",
    "        return -x\n",
    "    if x > 0:\n",
    "        return x"
   ]
  },
  {
   "cell_type": "markdown",
   "metadata": {},
   "source": [
    "### Exercise 2  \n",
    "Use incremental development to write a function called `hypotenuse` that returns the length of the hypotenuse of a right triangle given the lengths of the two legs as arguments. Record each stage of the development process as you go, using as many cells as you need."
   ]
  },
  {
   "cell_type": "code",
   "execution_count": 14,
   "metadata": {
    "collapsed": false
   },
   "outputs": [
    {
     "data": {
      "text/plain": [
       "0.0"
      ]
     },
     "execution_count": 14,
     "metadata": {},
     "output_type": "execute_result"
    }
   ],
   "source": [
    "def hypotenuse(a, b):\n",
    "    return 0.0    \n",
    "\n",
    "hypotenuse(2, 3)"
   ]
  },
  {
   "cell_type": "code",
   "execution_count": 17,
   "metadata": {
    "collapsed": false
   },
   "outputs": [
    {
     "name": "stdout",
     "output_type": "stream",
     "text": [
      "4\n",
      "9\n"
     ]
    }
   ],
   "source": [
    "def hypotenuse(a, b):\n",
    "    print(a**2)\n",
    "    print(b**2)\n",
    "    \n",
    "hypotenuse(2, 3)"
   ]
  },
  {
   "cell_type": "code",
   "execution_count": 18,
   "metadata": {
    "collapsed": false
   },
   "outputs": [
    {
     "name": "stdout",
     "output_type": "stream",
     "text": [
      "13\n"
     ]
    }
   ],
   "source": [
    "def hypotenuse(a, b):\n",
    "    aa = (a**2)\n",
    "    bb = (b**2)\n",
    "    print(aa + bb)\n",
    "    \n",
    "hypotenuse(2, 3)"
   ]
  },
  {
   "cell_type": "code",
   "execution_count": 20,
   "metadata": {
    "collapsed": false
   },
   "outputs": [
    {
     "name": "stdout",
     "output_type": "stream",
     "text": [
      "3.60555127546\n"
     ]
    }
   ],
   "source": [
    "def hypotenuse(a, b):\n",
    "    aa = (a**2)\n",
    "    bb = (b**2)\n",
    "    cc = aa + bb\n",
    "    import math\n",
    "    c = math.sqrt(cc)\n",
    "    print(c)\n",
    "    \n",
    "hypotenuse(2, 3)"
   ]
  },
  {
   "cell_type": "markdown",
   "metadata": {},
   "source": [
    "### Exercise 3  \n",
    "Write a function `is_between(x, y, z)` that returns `True` if `x ≤ y ≤ z` or `False` otherwise."
   ]
  },
  {
   "cell_type": "code",
   "execution_count": 6,
   "metadata": {
    "collapsed": false
   },
   "outputs": [
    {
     "name": "stdout",
     "output_type": "stream",
     "text": [
      "true\n",
      "true\n",
      "false\n"
     ]
    }
   ],
   "source": [
    "def is_between(x, y, z):\n",
    "    if x <= y <= z:\n",
    "        print('true')\n",
    "    else:\n",
    "        print('false')\n",
    "    \n",
    "is_between(3,3,3)\n",
    "is_between(3,4,5)\n",
    "is_between(5,4,3)"
   ]
  },
  {
   "cell_type": "markdown",
   "metadata": {},
   "source": [
    "# Chapter 7: Iteration\n",
    "\n",
    "## 7.1 Multiple Assignment \n",
    "\n",
    "#### - you can make more than one assignment to the same variable\n",
    "#### - use with caution - makes code difficult to read and debug\n",
    "\n",
    "## 7.2 Updating Variables\n",
    "\n",
    "#### - update: common form of multiple assignement - new value depends on old value\n",
    "#### - you have to initialize the variable before you can update\n",
    "#### - increment: adding one\n",
    "#### - decrement: subtracting one\n",
    "\n",
    "## 7.3 The while Statement\n",
    "\n",
    "#### - iteration: uses recursion to perform repetition\n",
    "#### - while statements useful for repetition by analyzing true/false conditions - is a loop\n",
    "#### - an infinite loop has no end\n",
    "\n",
    "## 7.4 break\n",
    "\n",
    "#### - use the break statement to end a loop\n",
    "#### - way to create a break: when the user types done\n",
    "\n",
    "## 7.5 Square Roots\n",
    "\n",
    "#### - square roots can be found by iterating on Newton's method \n",
    "#### - the estimate is almost exact when repeated enough\n",
    "\n",
    "## 7.6 Algorithms\n",
    "\n",
    "#### - algorithm: a mechanical process for solving a category of problems\n",
    "#### - algorithms include: addition with carrying, subtraction with borrowing, and long division\n",
    "\n",
    "## 7.7 Debugging \n",
    "\n",
    "#### - more code = more potential places with bugs\n",
    "#### - debugging by bisection: debugging the code in sections instead of line-by-line\n"
   ]
  },
  {
   "cell_type": "markdown",
   "metadata": {},
   "source": [
    "**Quick check:** How do you test for equality in Python?\n",
    "\n",
    "#### you type '==' to test for equality in python."
   ]
  },
  {
   "cell_type": "markdown",
   "metadata": {},
   "source": [
    " "
   ]
  },
  {
   "cell_type": "markdown",
   "metadata": {},
   "source": [
    "**Challenge:** Prove/disprove the Collatz conjecture :)"
   ]
  },
  {
   "cell_type": "markdown",
   "metadata": {},
   "source": [
    "### Exercise 2  \n",
    "Encapsulate the loop from Section 7.5 in a function called `square_root` that takes `a` as a parameter, chooses a reasonable value of `x`, and returns an estimate of the square root of `a`."
   ]
  },
  {
   "cell_type": "code",
   "execution_count": 25,
   "metadata": {
    "collapsed": false
   },
   "outputs": [
    {
     "name": "stdout",
     "output_type": "stream",
     "text": [
      "2.2360679775\n",
      "2.0\n",
      "6.0\n"
     ]
    }
   ],
   "source": [
    "def square_root(a):\n",
    "    x = a / 2.0\n",
    "    y = (x + a/x) / 2.0\n",
    "    if y == x:\n",
    "        return y\n",
    "    \n",
    "    while x != y:\n",
    "        x = y\n",
    "        y = (x + a/x) / 2.0\n",
    "        if y == x:\n",
    "            return y\n",
    "        \n",
    "    \n",
    "        \n",
    "print square_root(5)\n",
    "print square_root(4)\n",
    "print square_root(36)"
   ]
  },
  {
   "cell_type": "markdown",
   "metadata": {},
   "source": [
    "### Exercise 3  \n",
    "To test the square root algorithm you developed in Exercise 2, you could compare it with Python's `math.sqrt` function. Write a function named `test_square_root` that prints a table like this:\n",
    "\n",
    "```python\n",
    "1.0 1.0           1.0           0.0\n",
    "2.0 1.41421356237 1.41421356237 2.22044604925e-16\n",
    "3.0 1.73205080757 1.73205080757 0.0\n",
    "4.0 2.0           2.0           0.0\n",
    "5.0 2.2360679775  2.2360679775  0.0\n",
    "6.0 2.44948974278 2.44948974278 0.0\n",
    "7.0 2.64575131106 2.64575131106 0.0\n",
    "8.0 2.82842712475 2.82842712475 4.4408920985e-16\n",
    "9.0 3.0           3.0           0.0\n",
    "```\n",
    "\n",
    "The first column is a number, `a`; the second column is the square root of a computed with the function from Section 7.5; the third column is the square root computed by `math.sqrt`; the fourth column is the absolute value of the difference between the two estimates."
   ]
  },
  {
   "cell_type": "code",
   "execution_count": 37,
   "metadata": {
    "collapsed": false
   },
   "outputs": [
    {
     "name": "stdout",
     "output_type": "stream",
     "text": [
      "1.0  1.0  1.0  0.0\n",
      "2.0  1.41421356237  1.41421356237  2.22044604925e-16\n",
      "3.0  1.73205080757  1.73205080757  0.0\n",
      "4.0  2.0  2.0  0.0\n",
      "5.0  2.2360679775  2.2360679775  0.0\n",
      "6.0  2.44948974278  2.44948974278  0.0\n",
      "7.0  2.64575131106  2.64575131106  0.0\n",
      "8.0  2.82842712475  2.82842712475  4.4408920985e-16\n",
      "9.0  3.0  3.0  0.0\n"
     ]
    }
   ],
   "source": [
    "import math\n",
    "\n",
    "def test_square_root(c):\n",
    "    while c != 9.0:\n",
    "        c = c + 1.0\n",
    "        a = square_root(c)\n",
    "        b = math.sqrt(c)\n",
    "        d = abs(a - b)\n",
    "        print(str(c) + '  ' + str(a) + '  ' + str(b) + '  ' + str(d))\n",
    "  \n",
    "        \n",
    "     \n",
    "    \n",
    "test_square_root(0.0)\n",
    "    \n",
    "    \n",
    "            "
   ]
  },
  {
   "cell_type": "markdown",
   "metadata": {},
   "source": [
    "### Challenge: Exercise 5  (optional)\n",
    "The mathematician Srinivasa Ramanujan found an infinite series that can be used to generate a numerical approximation of\n",
    "$\\frac{1}{\\pi}$:\n",
    "\n",
    "$$\\frac{1}{\\pi} = \\frac{2 \\sqrt{2}}{9801} \\sum_{k=0}^{\\infty} \\frac{(4k)! (1103+26390k)}{(k!)^4 396^{4k}}$$\n",
    " \n",
    "Write a function called `estimate_pi` that uses this formula to compute and return an estimate of $\\pi$. It should use a `while` loop to compute terms of the summation until the last term is smaller than `1e-15` (which is Python notation for $10^{−15}$). You can check the result by comparing it to `math.pi`.\n",
    "\n",
    "[Possible solution](http://thinkpython.com/code/pi.py) (give the exercise a try before viewing the solution)"
   ]
  },
  {
   "cell_type": "code",
   "execution_count": null,
   "metadata": {
    "collapsed": true
   },
   "outputs": [],
   "source": []
  },
  {
   "cell_type": "markdown",
   "metadata": {},
   "source": [
    "## Reading Journal feedback\n",
    "\n",
    "Have any comments on this Reading Journal? Feel free to leave them below and we'll read them when you submit your journal entry. This could include suggestions to improve the exercises, topics you'd like to see covered in class next time, or other feedback.\n",
    "\n",
    "If you have Python questions or run into problems while completing the reading, you should post them to Piazza instead so you can get a quick response before your journal is submitted."
   ]
  },
  {
   "cell_type": "markdown",
   "metadata": {},
   "source": [
    " "
   ]
  }
 ],
 "metadata": {
  "kernelspec": {
   "display_name": "Python 2",
   "language": "python",
   "name": "python2"
  },
  "language_info": {
   "codemirror_mode": {
    "name": "ipython",
    "version": 2
   },
   "file_extension": ".py",
   "mimetype": "text/x-python",
   "name": "python",
   "nbconvert_exporter": "python",
   "pygments_lexer": "ipython2",
   "version": "2.7.6"
  }
 },
 "nbformat": 4,
 "nbformat_minor": 0
}
