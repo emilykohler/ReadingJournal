{
 "cells": [
  {
   "cell_type": "markdown",
   "metadata": {},
   "source": [
    "# Day 1 Reading Journal\n",
    "\n",
    "Hi everyone.  These are the exercises for the first set of readings from ThinkPython.  While this journal consists of several required exercises, it is meant to encourage active reading more generally.  You should use this journal to take detailed notes, catalog questions, and explore the content from ThinkPython deeply.\n",
    "\n",
    "For more information on using the Jupyter notebook, check out the documentation [here](http://nbviewer.jupyter.org/github/jupyter/notebook/blob/master/docs/source/examples/Notebook/Examples%20and%20Tutorials%20Index.ipynb).  Additionally, in order to write text in this document, you will be making use of markdown cells. A handy cheatsheet for markdown is available [here](https://github.com/adam-p/markdown-here/wiki/Markdown-Cheatsheet)."
   ]
  },
  {
   "cell_type": "markdown",
   "metadata": {},
   "source": [
    "# Chapter 1: The Way of the Program \n",
    "\n",
    "\n",
    "## Introduction\n",
    "\n",
    "####  - best features of mathematics, engineering, and natural science\n",
    "####  - teaches problem solving\n",
    "\n",
    "## 1.1 The Python Programming Language\n",
    "\n",
    "#### - computers can only run programs written in low-level languages \n",
    "#### - disadvantage of high-level languages: must be processed before they run\n",
    "#### - advantages of high-level languages: easier to program, shorter and easier to read, can run on different types of computers\n",
    "#### - disadvantage of low-level programs: can only run on one type of computer\n",
    "#### - advantage of low-level programs: does not have to be processed like a high-level language needs to be\n",
    "\n",
    "#### - programs that process h-l to l-l: interpreters and compilers\n",
    "#### - interpreters: reads h-l and executes it\n",
    "#### - compilers: read and translates it completely nefore executing\n",
    "#### - ways to be interpreter: interactive mode and script mode\n",
    "#### - can store code in a script\n",
    "\n",
    "## 1.2 What is a Program?\n",
    "\n",
    "#### - program: sequence of instructions that shows how to do a computation\n",
    "#### - basic instructions: input, output, math, conditional execution (checking for certain conditions), repetition\n",
    "\n",
    "## 1.3 What is Debugging?\n",
    "\n",
    "#### - bugs are programming errors\n",
    "#### - three types of errors: syntax (structure problems), runtime (error appears after program starts running), and semantic (no error messages, but incorrect result)\n",
    "#### - debugging is like detective work and experimental science\n",
    "\n",
    "## 1.4 Formal and Natural Languages\n",
    "\n",
    "#### - natural languages: the ones people speak\n",
    "#### - formal languages: made by people for specific purposes\n",
    "#### - natural and formal features in common: tokens, structure, syntax, and semantics\n",
    "#### - differences: natural languages have ambiguity, redundancy, and metaphor/idiom\n",
    "\n",
    "## 1.5 The First Program \n",
    "\n",
    "#### - print statement - displays something: \n",
    "#### - print 'Hello, World!' --> Hello, World!\n",
    "\n",
    "## 1.6 Debugging \n",
    "\n",
    "#### - make small mistakes now to become familiar with the error messages \n",
    "\n"
   ]
  },
  {
   "cell_type": "markdown",
   "metadata": {},
   "source": [
    "### Exercise 3\n",
    "\n",
    "Type `help()` to start the online help utility. Or you can type help('print') to get information about the print statement.  You should type `q` and then hit `enter` in the text box to exit the help utility. \n",
    "\n",
    "Note: this exercise is pretty simple (and there's not much to put in the box)!  We just want to make sure that you have tried out this super-handy feature of Python!"
   ]
  },
  {
   "cell_type": "code",
   "execution_count": null,
   "metadata": {
    "collapsed": false
   },
   "outputs": [
    {
     "name": "stdout",
     "output_type": "stream",
     "text": [
      "\n",
      "Welcome to Python 2.7!  This is the online help utility.\n",
      "\n",
      "If this is your first time using Python, you should definitely check out\n",
      "the tutorial on the Internet at http://docs.python.org/2.7/tutorial/.\n",
      "\n",
      "Enter the name of any module, keyword, or topic to get help on writing\n",
      "Python programs and using Python modules.  To quit this help utility and\n",
      "return to the interpreter, just type \"quit\".\n",
      "\n",
      "To get a list of available modules, keywords, or topics, type \"modules\",\n",
      "\"keywords\", or \"topics\".  Each module also comes with a one-line summary\n",
      "of what it does; to list the modules whose summaries contain a given word\n",
      "such as \"spam\", type \"modules spam\".\n",
      "\n"
     ]
    }
   ],
   "source": [
    "help()"
   ]
  },
  {
   "cell_type": "markdown",
   "metadata": {},
   "source": [
    "### Exercise 4  \n",
    "\n",
    "Start the Python interpreter and use it as a calculator. Python’s syntax for math operations is almost the same as standard mathematical notation. For example, the symbols +, - and / denote addition, subtraction and division, as you would expect. The symbol for multiplication is *.\n",
    "\n",
    "If you run a 10 kilometer race in 43 minutes 30 seconds, what is your average time per mile? What is your average speed in miles per hour? (Hint: there are 1.61 kilometers in a mile). "
   ]
  },
  {
   "cell_type": "code",
   "execution_count": 2,
   "metadata": {
    "collapsed": false
   },
   "outputs": [
    {
     "name": "stdout",
     "output_type": "stream",
     "text": [
      "8.56714499893\n"
     ]
    }
   ],
   "source": [
    "kilometers = 10\n",
    "minutes = 43.5\n",
    "miles = kilometers / 1.61\n",
    "hours = minutes / 60\n",
    "print miles / hours\n"
   ]
  },
  {
   "cell_type": "markdown",
   "metadata": {},
   "source": [
    "# Chapter 2: Variables, Expressions and Statements\n",
    "\n",
    "## 2.1 Values and Types \n",
    "\n",
    "#### - anything in quotation marks is a string\n",
    "#### - 2 is an example of an integer (do not use commas for large numbers)\n",
    "#### - 2.2 is an example of a float\n",
    "\n",
    "## 2.2 Variables\n",
    "\n",
    "#### - variable: a name that refers to a value\n",
    "#### - assignment statement: creates new variables with values\n",
    "#### - state diagrams show variables with their values\n",
    "\n",
    "## 2.3 Variable Names and Keywords\n",
    "\n",
    "#### - variable names have to begin with a letter (usually lower case)\n",
    "#### - keywords cannot be used as variable names, including:\n",
    "##### and       del       from      not       while    \n",
    "##### assert    else      if        pass      yield    \n",
    "##### break     except    import    print              \n",
    "##### class     exec      in        raise              \n",
    "##### continue  finally   is        return             \n",
    "##### def       for       lambda    try\n",
    "\n",
    "## 2.4 Operators and Operands\n",
    "\n",
    "#### - operators: represent computations (-/+)\n",
    "#### - operands: values the operator is applied to \n",
    "#### - floor division cuts off fractions when dividing integers (use at least one floating point number to receive answer with the fraction)\n",
    "\n",
    "## 2.5 Expressions and Statements\n",
    "\n",
    "#### - expression: combination of values, variables and operators\n",
    "#### - statement: unit of code that is interpreted and executed\n",
    "#### - an expression has a value, a statement does not\n",
    "\n",
    "## 2.6 Interactive Mode and Script Mode\n",
    "\n",
    "#### - use interactive mode to test small parts of code\n",
    "#### - use scripts to store code \n",
    "\n",
    "## 2.7 Order of Operations\n",
    "\n",
    "#### - use the order of operations or PEMDAS (parenteses, exponentiation, multiplication, division, left to right)\n",
    "\n",
    "## 2.8 String Operations\n",
    "\n",
    "#### - no mathematical operations on strings - just floats and integers\n",
    "#### - instead concatenation happens where the strings are joined\n",
    "#### - ex) first = 'throat', second = 'warbler', first + second = throatwarbler\n",
    "\n",
    "## 2.9 Comments\n",
    "\n",
    "#### - comments start with the number sign (#)\n",
    "#### - useful for explaining why in complicated code\n",
    "\n",
    "## 2.10 Debugging \n",
    "\n",
    "#### - don't put spaces in variable names\n",
    "\n"
   ]
  },
  {
   "cell_type": "markdown",
   "metadata": {},
   "source": [
    "### Exercise 2  \n",
    "\n",
    "Assume that we execute the following assignment statements:\n",
    "\n",
    "width = 17\n",
    "height = 12.0\n",
    "delimiter = '.'\n",
    "\n",
    "For each of the following expressions, write the value of the expression and the type (of the value of the expression).\n",
    "\n",
    "1. `width/2` \n",
    "2. `width/2.0`\n",
    "3. `height/3`\n",
    "4. `1 + 2 * 5`\n",
    "5. `delimiter * 5`  \n",
    "\n",
    "Please use the following markdown cell to provide your answer."
   ]
  },
  {
   "cell_type": "markdown",
   "metadata": {},
   "source": [
    "1. 8, integer\n",
    "2. 8.5, float\n",
    "3. 4, integer \n",
    "4. 11, integer\n",
    "5. Cannot multiply a string and an integer"
   ]
  },
  {
   "cell_type": "markdown",
   "metadata": {},
   "source": [
    "### Exercise 3  \n",
    "\n",
    "Practice using the Python interpreter as a calculator.  For each of these provide Python code that computes each answer.\n",
    "\n",
    "    \n"
   ]
  },
  {
   "cell_type": "markdown",
   "metadata": {},
   "source": [
    "The volume of a sphere with radius r is 4/3 $\\pi r^3$. What is the volume of a sphere with radius 5? Hint: 392.7 is wrong!"
   ]
  },
  {
   "cell_type": "code",
   "execution_count": 4,
   "metadata": {
    "collapsed": false
   },
   "outputs": [
    {
     "data": {
      "text/plain": [
       "523.5987755982989"
      ]
     },
     "execution_count": 4,
     "metadata": {},
     "output_type": "execute_result"
    }
   ],
   "source": [
    "import math \n",
    "4 * math.pi * (5**3) / 3"
   ]
  },
  {
   "cell_type": "markdown",
   "metadata": {},
   "source": [
    "Suppose the cover price of a book is \\$24.95, but bookstores get a 40% discount. Shipping costs \\$3 for the first copy and 75 cents for each additional copy. What is the total wholesale cost for 60 copies?"
   ]
  },
  {
   "cell_type": "code",
   "execution_count": 5,
   "metadata": {
    "collapsed": false
   },
   "outputs": [
    {
     "data": {
      "text/plain": [
       "945.4499999999999"
      ]
     },
     "execution_count": 5,
     "metadata": {},
     "output_type": "execute_result"
    }
   ],
   "source": [
    "price = 24.95\n",
    "total_number = 600 (.75 * 59)"
   ]
  },
  {
   "cell_type": "markdown",
   "metadata": {},
   "source": [
    "If I leave my house at 6:52 am and run 1 mile at an easy pace (8:15 per mile), then 3 miles at tempo (7:12 per mile) and 1 mile at easy pace again, what time do I get home for breakfast? \n",
    "\n",
    "(2*(8 * 60 + 15)) + (3*(7 * 60 + 12))"
   ]
  },
  {
   "cell_type": "code",
   "execution_count": 35,
   "metadata": {
    "collapsed": false
   },
   "outputs": [
    {
     "name": "stdout",
     "output_type": "stream",
     "text": [
      "7:30 am\n"
     ]
    }
   ],
   "source": [
    "easy_pace = (8*60 + 15)\n",
    "tempo_pace = (7*60 + 12)\n",
    "answer1 = ((2*easy_pace + 3*tempo_pace)/3600.0) + (6 + (52/60.0))\n",
    "answer2 = int(answer1)\n",
    "answer3 = answer1 - answer2\n",
    "answer4 = answer3 * 60 \n",
    "print(str(int(answer1)) + \":\" + str(int(answer4)) + \" am\")\n",
    "\n"
   ]
  },
  {
   "cell_type": "markdown",
   "metadata": {},
   "source": [
    "# Chapter 3: Functions\n",
    "\n",
    "## 3.1 Function Calls\n",
    "\n",
    "#### - function: named sequence of statements \n",
    "#### - results = return value\n",
    "\n",
    "## 3.2 Type Conversion Functions\n",
    "\n",
    "#### - built in conversion functions - ex) int('32') --> 32\n",
    "\n",
    "## 3.3 Math Functions\n",
    "\n",
    "#### - module: a file with a collection of related functions\n",
    "#### - name of module and name of function separated with a dot \n",
    "#### - ex) math-sqrt\n",
    "\n",
    "## 3.4 Composition\n",
    "\n",
    "#### - ability to take small building blocks and compose them\n",
    "\n",
    "## 3.5 Adding New Functions\n",
    "\n",
    "#### - function definition: name of new function and sequene of statments\n",
    "#### - header: first line of function, ends with a colon\n",
    "#### - body: the rest of the function, is indented \n",
    "\n",
    "## 3.6 Definitions and Uses \n",
    "\n",
    "#### - the function definition has to be executed before the first time it is called\n",
    "\n",
    "## 3.7 Flow of Execution\n",
    "\n",
    "#### - flow of execution: order of statement execution \n",
    "#### - a function call is like a detour in the flow of execution\n",
    "\n",
    "## 3.8 Parameters and Arguements\n",
    "\n",
    "#### - within functions arguments are assigned to parameters (specific variables)\n",
    "\n",
    "## 3.9 Variables and Parameters are Local\n",
    "\n",
    "#### - a variable inside a function is called a local - only exists in the function\n",
    "\n",
    "## 3.10 Stack Diagrams\n",
    "\n",
    "#### - stack diagram: shows where variables are used, each function has its own frame or cell of information\n",
    "#### - traceback: list of functions\n",
    "\n",
    "## 3.11 Fruitful Functions and Void Functions\n",
    "\n",
    "#### - fruitfun functions: have results, return values\n",
    "#### - void functions: have actions, but don't return values\n",
    "\n",
    "## 3.12 Why Functions?\n",
    "\n",
    "#### Reasons:\n",
    "#### 1. names a group of statements\n",
    "#### 2. easier to read and debug\n",
    "#### 3. no repetitive code\n",
    "#### 4. can be useful for many programs\n",
    "\n",
    "## 3.13 Importing with 'from'\n",
    "\n",
    "#### - import an oject from a module like this: >>> from math import pi\n",
    "\n",
    "## 3.14 Debugging\n",
    "\n",
    "#### - use spaces, not tabs\n",
    "#### - save programs before running\n",
    "\n"
   ]
  },
  {
   "cell_type": "markdown",
   "metadata": {},
   "source": [
    "### Exercise 3\n",
    "\n",
    "Python provides a built-in function called len that returns the length of a string, so the value of len('allen') is 5.\n",
    "Write a function named right_justify that takes a string named s as a parameter and prints the string with enough leading spaces so that the last letter of the string is in column 70 of the display.\n",
    "\n",
    "```\n",
    ">>> right_justify('allen')\n",
    "                                                                 allen```\n",
    "                                                                 \n"
   ]
  },
  {
   "cell_type": "code",
   "execution_count": 42,
   "metadata": {
    "collapsed": false
   },
   "outputs": [
    {
     "name": "stdout",
     "output_type": "stream",
     "text": [
      "                                                                 allen\n"
     ]
    }
   ],
   "source": [
    "def right_justify(s):\n",
    "    number = len(s)\n",
    "    spaces = 70 - number \n",
    "    print ' '*spaces + s\n",
    "\n",
    "right_justify('allen')"
   ]
  },
  {
   "cell_type": "markdown",
   "metadata": {},
   "source": [
    "### Exercise 5\n",
    "\n",
    "This exercise can be done using only the statements and other features we have learned so far.\n",
    "\n",
    "(a) Write a function that draws a grid like the following:\n",
    "```\n",
    "+ - - - - + - - - - +\n",
    "|         |         |\n",
    "|         |         |\n",
    "|         |         |\n",
    "|         |         |\n",
    "+ - - - - + - - - - +\n",
    "|         |         |\n",
    "|         |         |\n",
    "|         |         |\n",
    "|         |         |\n",
    "+ - - - - + - - - - +\n",
    "```\n",
    "**Hint:** to print more than one value on a line, you can print a comma-separated sequence:\n",
    "print '+', '-'\n",
    "If the sequence ends with a comma, Python leaves the line unfinished, so the value printed next appears on the same line.\n",
    "print '+', \n",
    "print '-'\n",
    "The output of these statements is '+ -'.\n",
    "A print statement all by itself ends the current line and goes to the next line."
   ]
  },
  {
   "cell_type": "code",
   "execution_count": 1,
   "metadata": {
    "collapsed": false
   },
   "outputs": [
    {
     "name": "stdout",
     "output_type": "stream",
     "text": [
      "+ - - - - + - - - - + \n",
      "|         |         |\n",
      "|         |         |\n",
      "|         |         |\n",
      "|         |         |\n",
      "+ - - - - + - - - - + \n",
      "|         |         |\n",
      "|         |         |\n",
      "|         |         |\n",
      "|         |         |\n",
      "+ - - - - + - - - - + \n",
      "\n"
     ]
    }
   ],
   "source": [
    "rail='+' + ' -' * 4 + ' + ' + '- ' * 4 + '+ \\n'  # yay\n",
    "stile='|' + ' ' * 9 + '|' + ' ' * 9 + '|\\n'      # yay pt. 2\n",
    "print rail + stile * 4 + rail + stile * 4 + rail # yay pt. 3"
   ]
  },
  {
   "cell_type": "markdown",
   "metadata": {},
   "source": [
    "(b) Write a function that draws a similar grid with four rows and four columns."
   ]
  },
  {
   "cell_type": "code",
   "execution_count": 2,
   "metadata": {
    "collapsed": false
   },
   "outputs": [
    {
     "name": "stdout",
     "output_type": "stream",
     "text": [
      "+ - - - - + - - - - + - - - - + - - - - + \n",
      "|         |         |         |         |\n",
      "|         |         |         |         |\n",
      "|         |         |         |         |\n",
      "|         |         |         |         |\n",
      "+ - - - - + - - - - + - - - - + - - - - + \n",
      "|         |         |         |         |\n",
      "|         |         |         |         |\n",
      "|         |         |         |         |\n",
      "|         |         |         |         |\n",
      "+ - - - - + - - - - + - - - - + - - - - + \n",
      "|         |         |         |         |\n",
      "|         |         |         |         |\n",
      "|         |         |         |         |\n",
      "|         |         |         |         |\n",
      "+ - - - - + - - - - + - - - - + - - - - + \n",
      "|         |         |         |         |\n",
      "|         |         |         |         |\n",
      "|         |         |         |         |\n",
      "|         |         |         |         |\n",
      "+ - - - - + - - - - + - - - - + - - - - + \n",
      "\n"
     ]
    }
   ],
   "source": [
    "rail='+' + ' -' * 4 + ' + ' + '- ' * 4 + '+' + ' -' * 4 + ' +' + ' -' * 4 + ' + \\n'  \n",
    "stile='|' + ' ' * 9 + '|' + ' ' * 9 + '|' + ' ' * 9 + '|' + ' ' * 9 + '|\\n'      \n",
    "print rail + stile * 4 + rail + stile * 4 + rail + stile * 4 + rail + stile * 4 + rail "
   ]
  },
  {
   "cell_type": "markdown",
   "metadata": {},
   "source": [
    "# Chapter 5.1 - 5.7: Conditionals and Recursion\n",
    "\n",
    "## 5.1 Modulus Operator\n",
    "\n",
    "#### - modulus operator: shows the remainder when the first operand is divided by the second (%)\n",
    "\n",
    "## 5.2 Boolean Expressions\n",
    "\n",
    "#### - boolean expression: either true or false\n",
    "#### relational operators:\n",
    "####     x != y                x is not equal to y\n",
    "####     x > y                 x is greater than y\n",
    "####     x < y                 x is less than y\n",
    "####     x >= y               x is greater than or equal to y\n",
    "####     x <= y               x is less than or equal to y\n",
    "\n",
    "## 5.3 Logical Operators\n",
    "\n",
    "#### - logical operators: and, or and not\n",
    "#### - might want to avoid \n",
    "\n",
    "## 5.4 Conditional Execution\n",
    "\n",
    "#### - conditional statements give ability to change the behavior according to a condition\n",
    "#### - ex) if statements\n",
    "#### - compound statements: header with an inde\n",
    "\n",
    "## 5.5 Alternative Execution\n",
    "\n",
    "#### - alternative execution: two possibilities and the condition determines which possibility (if/else)\n",
    "#### - alternative possibilities are called branches\n",
    "\n",
    "## 5.6 Chained Conditionals\n",
    "\n",
    "#### - chained conditional: more than two possibilites (if/elif/else)\n",
    "#### - no limit to the number of elif statements\n",
    "#### - even if more than one conditions is true, only the first branch is executed\n",
    "\n",
    "## 5.7 Nested Conditionals\n",
    "\n",
    "#### - become difficult to read (avoid if possible)"
   ]
  },
  {
   "cell_type": "markdown",
   "metadata": {},
   "source": [
    "### Exercise 3  \n",
    "\n",
    "Fermat’s Last Theorem says that there are no positive integers a, b, and c such that $a^n + b^n = c^n$ for any values of n greater than 2.\n",
    "\n",
    "(a) Write a function named `check_fermat` that takes four parameters—a, b, c and n—and that checks to see if Fermat’s theorem holds. If n is greater than 2 and it turns out to be true that\n",
    "$a^n + b^n = c^n$ the program should print, \"Holy smokes, Fermat was wrong!\" Otherwise the program should print, \"No, that doesn’t work.\""
   ]
  },
  {
   "cell_type": "code",
   "execution_count": 3,
   "metadata": {
    "collapsed": false
   },
   "outputs": [
    {
     "name": "stdout",
     "output_type": "stream",
     "text": [
      "No that doesn't work. The value of n must be great than 2\n",
      "No that doesn't work\n"
     ]
    }
   ],
   "source": [
    "def check_fermat(a, b, c, n):\n",
    "    if a**n + b**n == c**n:\n",
    "        print \"Holy smokes, Fermat was wrong!\"\n",
    "    elif n < 2:\n",
    "        print \"No that doesn't work. The value of n must be great than 2\"\n",
    "    else:\n",
    "        print \"No that doesn't work\"\n",
    "        \n",
    "check_fermat(4, 5, 6, 1)\n",
    "check_fermat(4, 5, 6, 7)\n",
    "\n"
   ]
  },
  {
   "cell_type": "markdown",
   "metadata": {},
   "source": [
    "(b) Write a function that prompts the user to input values for a, b, c and n, converts them to integers, and uses check_fermat to check whether they violate Fermat’s theorem."
   ]
  },
  {
   "cell_type": "code",
   "execution_count": 6,
   "metadata": {
    "collapsed": false
   },
   "outputs": [
    {
     "name": "stdout",
     "output_type": "stream",
     "text": [
      "No that doesn't work\n",
      "No that doesn't work\n"
     ]
    }
   ],
   "source": [
    "def check_fermat(d, e, f, n): \n",
    "    a = int(d)\n",
    "    b = int(e)\n",
    "    c = int(f)\n",
    "    if a**n + b**n == c**n:\n",
    "        print \"Holy smokes, Fermat was wrong!\"\n",
    "    elif n < 2:\n",
    "        print \"No that doesn't work. The value of n must be great than 2\"\n",
    "    else:\n",
    "        print \"No that doesn't work\"\n",
    "\n",
    "        \n",
    "check_fermat(7.2, 5, 3, 2.3)\n",
    "check_fermat(7, 5.5, 3.9, 2.9)\n",
    "        "
   ]
  },
  {
   "cell_type": "markdown",
   "metadata": {},
   "source": [
    "### Exercise 4  \n",
    "\n",
    "If you are given three sticks, you may or may not be able to arrange them in a triangle. For example, if one of the sticks is 12 inches long and the other two are one inch long, it is clear that you will not be able to get the short sticks to meet in the middle. For any three lengths, there is a simple test to see if it is possible to form a triangle:\n",
    "> If any of the three lengths is greater than the sum of the other two, then you cannot form a triangle. Otherwise, you can. (If the sum of two lengths equals the third, they form what is called a “degenerate” triangle.)\n",
    "\n",
    "(a) Write a function named `is_triangle` that takes three integers as arguments, and that prints either \"Yes\" or \"No,\" depending on whether you can or cannot form a triangle from sticks with the given lengths."
   ]
  },
  {
   "cell_type": "code",
   "execution_count": 17,
   "metadata": {
    "collapsed": false
   },
   "outputs": [
    {
     "name": "stdout",
     "output_type": "stream",
     "text": [
      "degenerate triangle\n",
      "Yes\n",
      "No\n",
      "No\n",
      "No\n"
     ]
    }
   ],
   "source": [
    "def is_triangle(a, b, c):\n",
    "    if a + b == c:\n",
    "        print \"degenerate triangle\"\n",
    "    elif a + c == b:\n",
    "        print \"degenerate triangle\"\n",
    "    elif b + c == a:\n",
    "        print \"degenerate triangle\"\n",
    "    elif a + b < c:\n",
    "        print \"No\"\n",
    "    elif a + c <  b:\n",
    "        print \"No\"\n",
    "    elif b + c < a:\n",
    "        print \"No\"\n",
    "    else:\n",
    "        print \"Yes\"\n",
    "\n",
    "is_triangle(3, 4, 7)\n",
    "is_triangle(3, 4, 5)\n",
    "is_triangle(3, 4, 9)\n",
    "is_triangle(3, 9, 4)\n",
    "is_triangle(9, 3, 4)\n",
    "    \n",
    "        "
   ]
  },
  {
   "cell_type": "markdown",
   "metadata": {},
   "source": [
    "(b) Write a function that prompts the user to input three stick lengths, converts them to integers, and uses is_triangle to check whether sticks with the given lengths can form a triangle."
   ]
  },
  {
   "cell_type": "code",
   "execution_count": 21,
   "metadata": {
    "collapsed": false
   },
   "outputs": [
    {
     "name": "stdout",
     "output_type": "stream",
     "text": [
      "degenerate triangle\n",
      "degenerate triangle\n"
     ]
    }
   ],
   "source": [
    "def is_triangle(d, e, f):\n",
    "    a = int(d)\n",
    "    b = int(e)\n",
    "    c = int(f)\n",
    "    if a + b == c:\n",
    "        print \"degenerate triangle\"\n",
    "    elif a + c == b:\n",
    "        print \"degenerate triangle\"\n",
    "    elif b + c == a:\n",
    "        print \"degenerate triangle\"\n",
    "    elif a + b < c:\n",
    "        print \"No\"\n",
    "    elif a + c <  b:\n",
    "        print \"No\"\n",
    "    elif b + c < a:\n",
    "        print \"No\"\n",
    "    else:\n",
    "        print \"Yes\"\n",
    "\n",
    "        \n",
    "is_triangle(3.3, 4.7, 7)\n",
    "is_triangle(5, 5, 10.9)\n"
   ]
  },
  {
   "cell_type": "markdown",
   "metadata": {},
   "source": [
    "## Notes for the Instructors\n",
    "\n",
    "Please use the space below to write comments to help us plan the next class session.  For instance, if you want to see us go over an example of a particular type of problem, you can indicate that here.\n",
    "\n",
    "Please remember that the best way to get quick feedback from the instructors as well as your peers, is to use Piazza.  However, consider using this channel if it doesn't make sense to post your note to Piazza."
   ]
  },
  {
   "cell_type": "markdown",
   "metadata": {},
   "source": []
  }
 ],
 "metadata": {
  "kernelspec": {
   "display_name": "Python 2",
   "language": "python",
   "name": "python2"
  },
  "language_info": {
   "codemirror_mode": {
    "name": "ipython",
    "version": 2
   },
   "file_extension": ".py",
   "mimetype": "text/x-python",
   "name": "python",
   "nbconvert_exporter": "python",
   "pygments_lexer": "ipython2",
   "version": "2.7.6"
  }
 },
 "nbformat": 4,
 "nbformat_minor": 0
}
