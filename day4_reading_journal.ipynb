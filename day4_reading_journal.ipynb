{
 "cells": [
  {
   "cell_type": "markdown",
   "metadata": {},
   "source": [
    "# Day 4 Reading Journal\n",
    "\n",
    "This journal includes several required exercises, but it is meant to encourage active reading more generally.  You should use the journal to take detailed notes, catalog questions, and explore the content from Think Python deeply.\n",
    "\n",
    "Reading: Think Python Chapter 10\n",
    "\n",
    "**Due: Thursday, February 4 at 12 noon**\n",
    "\n"
   ]
  },
  {
   "cell_type": "markdown",
   "metadata": {},
   "source": [
    "# Chapter 10: Lists\n",
    "\n",
    "## 10.1 A List is a Sequence\n",
    "\n",
    "#### - list: sequence of values\n",
    "#### - elements/items: values in a list\n",
    "#### - nested list: a list within another\n",
    "#### ex) [3, 5, 9]\n",
    "\n",
    "## 10.2 Lists are Mutable\n",
    "\n",
    "#### - accessing elements of a list is the same syntax of a string (word[1])\n",
    "#### - lists a mutable - you can change them\n",
    "#### - mapping: relationship between indices and elements\n",
    "\n",
    "## 10.3 Traversing a List\n",
    "\n",
    "#### - most common way to traverse elements of a list is with a for loop\n",
    "#### - combining range and len functions to update\n",
    "\n",
    "## 10.4 List Operations\n",
    "\n",
    "#### - add lists using + sign - multiply with * sign\n",
    "\n",
    "## 10.5 List Slices\n",
    "\n",
    "#### - slice operator works on lists\n",
    "\n",
    "## 10.6 List Methods\n",
    "\n",
    "#### - append adds a new element to the end of a list - listname.append('d')\n",
    "#### - extend takes a list as an arguments and appends all the elements - listname.estend(secondlist)\n",
    "#### - sort arrances from low to high \n",
    "\n",
    "## 10.7 Map, Filter and Reduce\n",
    "\n",
    "#### - augmented assignment statement: total += x is the same thing as total = total + x\n",
    "#### - accumulator: a variable used to sum elements as a loop executes\n",
    "#### - built in sum function to add the elements of a list - sometimes called reduce because it condences\n",
    "#### - filter: selects some elements and filters out others\n",
    "\n",
    "## 10.8 Deleting Elements\n",
    "\n",
    "#### - t = ['a', 'b', 'c'] => x= t.pop(1) => print t => ['a', 'c'] => print x => b\n",
    "#### - if you don't need the removed value - del t[1] => print t => ['a', 'c'] \n",
    "#### - if you know the element but not the index - t.remove('b') => print t => ['a', 'c']\n",
    "#### - to remove more than one element - del t[0:2] => print t => ['c']\n",
    "\n",
    "## 10.9 Lists and Strings\n",
    "\n",
    "#### - to convert a string to a list of individual letters:\n",
    "####                - s = 'spam => t = list(s) => print t => ['s', 'p', 'a', 'm']\n",
    "#### - to convert a string to a list of words:\n",
    "####                - s = 'pining for' => t = s.split() => print t => ['pining', 'for']\n",
    "#### - a delimiter deletes a certain character\n",
    "####                - s = 'spam-spam' => delimiter = '-' => a.split(delimiter) => ['spam', 'spam']\n",
    "#### - join is the inverse of split\n",
    "####                - t = ['pining', 'for'] => delimiter ' ' => delimiter.join(t) => 'pining for'\n",
    "\n",
    "## 10.10 Objects and Values\n",
    "\n",
    "#### - to check whether variable refer to the same object: a is b => True or False\n",
    "\n",
    "## 10.11 Aliasing\n",
    "\n",
    "#### - if you assign b=a, then both variable refer to the same object\n",
    "#### - reference: the association of a variable with an object\n",
    "#### - aliased: object with more than one reference has more than one name\n",
    "#### - safer to aviod aliasing because it is error prone\n",
    "\n",
    "## 10.12 List Arguments\n",
    "\n",
    "#### - delete_head removes the first element from a list\n",
    "#### - you can use the + to add to a list\n",
    "\n",
    "## 10.13 Debugging\n",
    "\n",
    "#### - dont forget that most lists methods modify the argument and return None\n",
    "#### - Pick an idion and stick with it - choose one method \n",
    "#### - Make copies to avoid aliasing\n",
    "\n",
    "You may want to review [state diagrams in Chapter 2](http://www.greenteapress.com/thinkpython/html/thinkpython003.html#toc13). [Python Tutor](http://pythontutor.com/) is also helpful for visualizing the state of your program.\n",
    "\n"
   ]
  },
  {
   "cell_type": "markdown",
   "metadata": {},
   "source": [
    "### Exercise 4  \n",
    "Write a function called `middle` that takes a list and returns a new list that contains all but the first and last elements. So `middle([1,2,3,4])` should return `[2,3]`."
   ]
  },
  {
   "cell_type": "code",
   "execution_count": 1,
   "metadata": {
    "collapsed": false
   },
   "outputs": [],
   "source": [
    "def middle(my_list):\n",
    "    length = len(my_list)\n",
    "    if length < 2:\n",
    "        return 'the list is not long enough for this function'\n",
    "    end = length - 1\n",
    "    new_list = my_list[1:end]\n",
    "    return new_list\n",
    "\n",
    "#middle([1, 2, 3, 4, 5, 6, 7])   \n",
    "#middle([1])\n",
    "#middle(['egg', 'eg', 'e'])"
   ]
  },
  {
   "cell_type": "markdown",
   "metadata": {},
   "source": [
    "### Exercise 5  \n",
    "Write a function called `chop` that takes a list, modifies it by removing the first and last elements, and returns `None`.\n",
    "\n",
    "What is the difference between `middle` and `chop`? Sketch out the program state or take a look at each in Python Tutor."
   ]
  },
  {
   "cell_type": "code",
   "execution_count": 2,
   "metadata": {
    "collapsed": false
   },
   "outputs": [
    {
     "name": "stdout",
     "output_type": "stream",
     "text": [
      "[2, 3, 4, 5, 6]\n"
     ]
    }
   ],
   "source": [
    "this_list = [1, 2, 3, 4, 5, 6, 7]\n",
    "\n",
    "def chop(my_list):\n",
    "    length = len(my_list)\n",
    "    end = length - 2\n",
    "    del my_list[0]\n",
    "    del my_list[end]\n",
    "\n",
    "chop(this_list)\n",
    " \n",
    "print this_list\n",
    "\n",
    "#Middle creates a new list and chop modifies the original list."
   ]
  },
  {
   "cell_type": "markdown",
   "metadata": {},
   "source": [
    "### Exercise 7  \n",
    "Two words are anagrams if you can rearrange the letters from one to spell the other. Write a function called `is_anagram` that takes two strings and returns `True` if they are anagrams."
   ]
  },
  {
   "cell_type": "code",
   "execution_count": 27,
   "metadata": {
    "collapsed": false
   },
   "outputs": [
    {
     "data": {
      "text/plain": [
       "False"
      ]
     },
     "execution_count": 27,
     "metadata": {},
     "output_type": "execute_result"
    }
   ],
   "source": [
    "def is_anagram(word1, word2):  \n",
    "    letters1 = list(word1)\n",
    "    letters2 = list(word2)\n",
    "    if len(word1) != len(word2):\n",
    "        return False\n",
    "    else:\n",
    "        for letter2 in letters2:\n",
    "            if letter2 in letters1:\n",
    "                letters1.remove(letter2)\n",
    "            if letter2 not in letters1:\n",
    "                return False\n",
    "    return True\n",
    "                \n",
    "\n",
    "\n",
    "#is_anagram('is', 'si')\n",
    "#is_anagram('tree', 'flower')\n",
    "#is_anagram('ttaa', 'ttee')\n",
    "#is_anagram('aaab', 'aabb')\n"
   ]
  },
  {
   "cell_type": "markdown",
   "metadata": {},
   "source": [
    "### Exercise 8  \n",
    "The (so-called) Birthday Paradox:\n",
    "1. Write a function called `has_duplicates` that takes a list and returns `True` if there is any element that appears more than once. It should not modify the original list.\n",
    "2. If there are 23 students in your class, what are the chances that two of you have the same birthday? You can estimate this probability by generating random samples of 23 birthdays and checking for matches. Hint: you can generate random birthdays with the randint function in the [random module](https://docs.python.org/2/library/random.html).\n",
    "\n",
    "You can read about this problem at http://en.wikipedia.org/wiki/Birthday_paradox, and you can download Allen's solution from http://thinkpython.com/code/birthday.py."
   ]
  },
  {
   "cell_type": "code",
   "execution_count": 17,
   "metadata": {
    "collapsed": false
   },
   "outputs": [
    {
     "data": {
      "text/plain": [
       "True"
      ]
     },
     "execution_count": 17,
     "metadata": {},
     "output_type": "execute_result"
    }
   ],
   "source": [
    "def has_duplicates(new_list):      \n",
    "    for i in range(len(new_list)):\n",
    "        base = new_list[i]\n",
    "        for j in range(i+1, len(new_list)):\n",
    "            check = new_list[j]\n",
    "            if base == check:\n",
    "                return True\n",
    "    return False\n",
    "            \n",
    "\n",
    "has_duplicates([2, 3, 4, 5, 6, 6])"
   ]
  },
  {
   "cell_type": "markdown",
   "metadata": {},
   "source": [
    "### Challenge: Exercise 11 (optional)\n",
    "\n",
    "You should read [Chapter 9.1](http://www.greenteapress.com/thinkpython/html/thinkpython010.html) and do Exercise 1 first.\n",
    "\n",
    "To check whether a word is in the word list, you could use the `in` operator, but it would be relatively slow because it searches through the words in order (try it).\n",
    "\n",
    "Because the words are in alphabetical order, we can speed things up with a bisection search (also known as binary search), which is similar to what you do when you look a word up in the dictionary. You start in the middle and check to see whether the word you are looking for comes before the word in the middle of the list. If so, then you search the first half of the list the same way. Otherwise you search the second half.\n",
    "\n",
    "Either way, you cut the remaining search space in half. If the word list has 113,809 words, it will take about 17 steps to find the word or conclude that it’s not there.\n",
    "\n",
    "Write a function called `bisect` that takes a sorted list and a target value and returns the index of the value in the list, if it’s there, or `None` if it’s not.\n",
    "\n",
    "Or you could read the documentation of the `bisect` module and use that! Solution: http://thinkpython.com/code/inlist.py."
   ]
  },
  {
   "cell_type": "code",
   "execution_count": null,
   "metadata": {
    "collapsed": true
   },
   "outputs": [],
   "source": []
  },
  {
   "cell_type": "markdown",
   "metadata": {},
   "source": [
    "## Reading Journal feedback\n",
    "\n",
    "Have any comments on this Reading Journal? Feel free to leave them below and we'll read them when you submit your journal entry. This could include suggestions to improve the exercises, topics you'd like to see covered in class next time, or other feedback.\n",
    "\n",
    "If you have Python questions or run into problems while completing the reading, you should post them to Piazza instead so you can get a quick response before your journal is submitted."
   ]
  },
  {
   "cell_type": "markdown",
   "metadata": {},
   "source": [
    " "
   ]
  }
 ],
 "metadata": {
  "kernelspec": {
   "display_name": "Python 2",
   "language": "python",
   "name": "python2"
  },
  "language_info": {
   "codemirror_mode": {
    "name": "ipython",
    "version": 2
   },
   "file_extension": ".py",
   "mimetype": "text/x-python",
   "name": "python",
   "nbconvert_exporter": "python",
   "pygments_lexer": "ipython2",
   "version": "2.7.6"
  }
 },
 "nbformat": 4,
 "nbformat_minor": 0
}
