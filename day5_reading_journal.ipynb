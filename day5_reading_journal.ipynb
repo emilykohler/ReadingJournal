{
 "cells": [
  {
   "cell_type": "markdown",
   "metadata": {},
   "source": [
    "# Day 5 Reading Journal\n",
    "\n",
    "This journal includes several required exercises, but it is meant to encourage active reading more generally.  You should use the journal to take detailed notes, catalog questions, and explore the content from Think Python deeply.\n",
    "\n",
    "Reading: Think Python Chapter 4\n",
    "\n",
    "**Due: Monday, February 8 at 12 noon**\n",
    "\n"
   ]
  },
  {
   "cell_type": "markdown",
   "metadata": {},
   "source": [
    "# Chapter 4: Interface Design\n",
    "\n",
    "## 4.1 TurtleWorld\n",
    "\n",
    "#### - package: collection of modules\n",
    "#### - TurtleWorld: set of function for drawing lines by steering turtles\n",
    "#### - fd, bk, lt, rt = forward, backward, left, right\n",
    "#### - pu, pd = pen up, pen down\n",
    "\n",
    "## 4.2 Simple Repetition\n",
    "\n",
    "#### - you can use for loops to make code more simple\n",
    "\n",
    "## 4.4 Encapsulation\n",
    "\n",
    "#### - encapsulation: wrapping a piece of code in a function\n",
    "\n",
    "## 4.5 Generalization\n",
    "\n",
    "#### - generalization: makes the code more general/less specific\n",
    "#### - include the parameter names as keywords\n",
    "\n",
    "## 4.6 Interface Design\n",
    "\n",
    "#### - interface: a summary of how to use it\n",
    "\n",
    "## 4.7 Refactoring\n",
    "\n",
    "#### - rearranging a program to imporve function interfaces and faciliate code re-use\n",
    "\n",
    "## 4.8 A Development Plan\n",
    "\n",
    "#### 1. write a small program with no functions\n",
    "#### 2. encapsulate working code in a function\n",
    "#### 3. generalize the function\n",
    "#### 4. repeat steps 1-3 until everything is working\n",
    "#### 5. look for opportunities to improve\n",
    "\n",
    "## 4.9 Docstring\n",
    "\n",
    "#### - docstring: a string at the beginning of a function that explains the interface\n",
    "#### - triple-quoted multiline string\n",
    "#### - makes functions easier to explain\n",
    "\n",
    "## 4.10 Debugging\n",
    "\n",
    "#### - preconditions: supposed to be true before the functions starts executing\n",
    "#### - postconditions: conditions aret he end of the function\n",
    "\n",
    "\n",
    "In today's reading, you'll be exploring TurtleWorld!\n",
    "TurtleWorld is part of the [swampy](http://www.greenteapress.com/thinkpython/swampy/) package, written by Allen Downey.\n",
    "As part of the [Get Set](https://sites.google.com/site/sd16spring/home/assignments-and-mini-projects/setup-your-environment) assignment, you installed the swampy package using the pip Python package management tool. If you somehow missed that step or you see errors when you try to import TurtleWorld, you can install swampy by running:\n",
    "\n",
    "```\n",
    "sudo pip install swampy\n",
    "```\n",
    "\n",
    "at the command line.\n",
    "\n",
    "### Turtle wrangling\n",
    "\n",
    "You can always run your code as separate Python scripts, but here are a few tips for mixing TurtleWorld with Jupyter notebook:\n",
    "\n",
    " - TurtleWorld will appear in a new GUI window, rather than inline in the notebook like typical results do\n",
    " - You will not be able to close the TurtleWorld window unless you run `wait_for_user()` as the last line of your code.\n",
    " - Jupyter notebook works like one big Python script, even though it is broken up into sections. This means that you could create a Turtle in one cell, move it in a later cell, and then `wait_for_user()` in yet another. Despite this, it might be easier to treat each cell in this assignment as a separate script, creating a new world at the beginning and destroying it at the end of each."
   ]
  },
  {
   "cell_type": "markdown",
   "metadata": {},
   "source": [
    "### Get started\n",
    "\n",
    "Run the code in the cell below and make sure everything works. You should see brave Alice spring into the world and run forward. You can close the window when you're done by clicking on the 'X'. If this simple test doesn't work, check your swampy install (especially if you get an `ImportError`) and ask for help."
   ]
  },
  {
   "cell_type": "code",
   "execution_count": 3,
   "metadata": {
    "collapsed": true
   },
   "outputs": [],
   "source": [
    "from swampy.TurtleWorld import *\n",
    "\n",
    "# Create the world, and a turtle to put in it\n",
    "world = TurtleWorld()\n",
    "alice = Turtle()\n",
    "\n",
    "# Get moving, turtle!\n",
    "fd(alice, 50)\n",
    "\n",
    "# Wait for the user to close the window\n",
    "wait_for_user()"
   ]
  },
  {
   "cell_type": "markdown",
   "metadata": {
    "is_question": true,
    "problem": "Section 4.3"
   },
   "source": [
    "### Section 4.3 exercises\n",
    "Work through exercises 1-5 in Section 4.3, creating the `square`, `polygon`, `circle`, and `arc` functions. You can reference Allen's solutions, but please try the problems on your own first."
   ]
  },
  {
   "cell_type": "code",
   "execution_count": null,
   "metadata": {
    "collapsed": false,
    "solution": "Section 4.3"
   },
   "outputs": [],
   "source": [
    "world = TurtleWorld()\n",
    "squirtle = Turtle()\n",
    "\n",
    "def square(squirtle, length):\n",
    "    for i in range(4):\n",
    "        fd(squirtle, length)\n",
    "        rt(squirtle, 90)\n",
    "    \n",
    "square(squirtle, 100)\n",
    "\n",
    "wait_for_user()"
   ]
  },
  {
   "cell_type": "code",
   "execution_count": 6,
   "metadata": {
    "collapsed": true
   },
   "outputs": [],
   "source": [
    "world = TurtleWorld()\n",
    "squirtle = Turtle()\n",
    "\n",
    "def polygon(squirtle, sides, length):\n",
    "    all_angles = (sides - 2)*180.0\n",
    "    angle = 180 - all_angles/sides\n",
    "    for i in range(sides):\n",
    "        fd(squirtle, length)\n",
    "        lt(squirtle, angle)\n",
    "        \n",
    "#polygon(squirtle, 80, 7)\n",
    "\n",
    "wait_for_user()"
   ]
  },
  {
   "cell_type": "code",
   "execution_count": 5,
   "metadata": {
    "collapsed": false
   },
   "outputs": [
    {
     "ename": "TypeError",
     "evalue": "unbound method fd() must be called with Turtle instance as first argument (got type instance instead)",
     "output_type": "error",
     "traceback": [
      "\u001b[1;31m---------------------------------------------------------------------------\u001b[0m",
      "\u001b[1;31mTypeError\u001b[0m                                 Traceback (most recent call last)",
      "\u001b[1;32m<ipython-input-5-eb2af33764a8>\u001b[0m in \u001b[0;36m<module>\u001b[1;34m()\u001b[0m\n\u001b[0;32m      9\u001b[0m \u001b[1;33m\u001b[0m\u001b[0m\n\u001b[0;32m     10\u001b[0m \u001b[1;33m\u001b[0m\u001b[0m\n\u001b[1;32m---> 11\u001b[1;33m \u001b[0mcircle\u001b[0m\u001b[1;33m(\u001b[0m\u001b[0msquirtle\u001b[0m\u001b[1;33m,\u001b[0m \u001b[1;36m50\u001b[0m\u001b[1;33m,\u001b[0m \u001b[1;36m50\u001b[0m\u001b[1;33m)\u001b[0m\u001b[1;33m\u001b[0m\u001b[0m\n\u001b[0m\u001b[0;32m     12\u001b[0m \u001b[1;33m\u001b[0m\u001b[0m\n\u001b[0;32m     13\u001b[0m \u001b[0mwait_for_user\u001b[0m\u001b[1;33m(\u001b[0m\u001b[1;33m)\u001b[0m\u001b[1;33m\u001b[0m\u001b[0m\n",
      "\u001b[1;32m<ipython-input-5-eb2af33764a8>\u001b[0m in \u001b[0;36mcircle\u001b[1;34m(squirtle, radius, acuracy)\u001b[0m\n\u001b[0;32m      6\u001b[0m     \u001b[0mcircumference\u001b[0m \u001b[1;33m=\u001b[0m \u001b[1;36m2.0\u001b[0m \u001b[1;33m*\u001b[0m \u001b[0mmath\u001b[0m\u001b[1;33m.\u001b[0m\u001b[0mpi\u001b[0m \u001b[1;33m*\u001b[0m \u001b[0mradius\u001b[0m\u001b[1;33m\u001b[0m\u001b[0m\n\u001b[0;32m      7\u001b[0m     \u001b[0mlength\u001b[0m \u001b[1;33m=\u001b[0m \u001b[0mcircumference\u001b[0m \u001b[1;33m/\u001b[0m \u001b[0macuracy\u001b[0m\u001b[1;33m\u001b[0m\u001b[0m\n\u001b[1;32m----> 8\u001b[1;33m     \u001b[0mpolygon\u001b[0m\u001b[1;33m(\u001b[0m\u001b[0msquirtle\u001b[0m\u001b[1;33m,\u001b[0m \u001b[0macuracy\u001b[0m\u001b[1;33m,\u001b[0m \u001b[0mlength\u001b[0m\u001b[1;33m)\u001b[0m\u001b[1;33m\u001b[0m\u001b[0m\n\u001b[0m\u001b[0;32m      9\u001b[0m \u001b[1;33m\u001b[0m\u001b[0m\n\u001b[0;32m     10\u001b[0m \u001b[1;33m\u001b[0m\u001b[0m\n",
      "\u001b[1;32m<ipython-input-4-cbfda3efb6ab>\u001b[0m in \u001b[0;36mpolygon\u001b[1;34m(squirtle, sides, length)\u001b[0m\n\u001b[0;32m      6\u001b[0m     \u001b[0mangle\u001b[0m \u001b[1;33m=\u001b[0m \u001b[1;36m180\u001b[0m \u001b[1;33m-\u001b[0m \u001b[0mall_angles\u001b[0m\u001b[1;33m/\u001b[0m\u001b[0msides\u001b[0m\u001b[1;33m\u001b[0m\u001b[0m\n\u001b[0;32m      7\u001b[0m     \u001b[1;32mfor\u001b[0m \u001b[0mi\u001b[0m \u001b[1;32min\u001b[0m \u001b[0mrange\u001b[0m\u001b[1;33m(\u001b[0m\u001b[0msides\u001b[0m\u001b[1;33m)\u001b[0m\u001b[1;33m:\u001b[0m\u001b[1;33m\u001b[0m\u001b[0m\n\u001b[1;32m----> 8\u001b[1;33m         \u001b[0mfd\u001b[0m\u001b[1;33m(\u001b[0m\u001b[0msquirtle\u001b[0m\u001b[1;33m,\u001b[0m \u001b[0mlength\u001b[0m\u001b[1;33m)\u001b[0m\u001b[1;33m\u001b[0m\u001b[0m\n\u001b[0m\u001b[0;32m      9\u001b[0m         \u001b[0mlt\u001b[0m\u001b[1;33m(\u001b[0m\u001b[0msquirtle\u001b[0m\u001b[1;33m,\u001b[0m \u001b[0mangle\u001b[0m\u001b[1;33m)\u001b[0m\u001b[1;33m\u001b[0m\u001b[0m\n\u001b[0;32m     10\u001b[0m \u001b[1;33m\u001b[0m\u001b[0m\n",
      "\u001b[1;31mTypeError\u001b[0m: unbound method fd() must be called with Turtle instance as first argument (got type instance instead)"
     ]
    }
   ],
   "source": [
    "world = TurtleWorld()\n",
    "squirtle = Turtle\n",
    "import math\n",
    "\n",
    "def circle(squirtle, radius, acuracy):\n",
    "    circumference = 2.0 * math.pi * radius\n",
    "    length = circumference / acuracy\n",
    "    polygon(squirtle, acuracy, length)\n",
    "\n",
    "    \n",
    "circle(squirtle, 50, 50)\n",
    "\n",
    "wait_for_user()"
   ]
  },
  {
   "cell_type": "code",
   "execution_count": null,
   "metadata": {
    "collapsed": false
   },
   "outputs": [],
   "source": [
    "world = TurtleWorld()\n",
    "squirtle = Turtle()\n",
    "import math\n",
    "\n",
    "def arc(squirtle, radius, angle, acuracy):\n",
    "    length = 2 * math.pi * radius * (angle / 360)\n",
    "    angle_interval = angle / acuracy\n",
    "    length_interval = length / acuracy\n",
    "    for i in range(length):\n",
    "        fd(squirtle, length_interval)\n",
    "        lt(squirtle, angle_interval)\n",
    "\n",
    "arc(squirtle, 50, 80, 5)\n",
    "        \n",
    "wait_for_user()"
   ]
  },
  {
   "cell_type": "markdown",
   "metadata": {
    "is_question": true,
    "problem": "More fun"
   },
   "source": [
    "### Exercise: More fun with Turtles!\n",
    "Complete at least one of Exercise 2, 3, 4, or 5. If you come up with some cool drawings you'd like to share with the rest of the class, let us know!"
   ]
  },
  {
   "cell_type": "code",
   "execution_count": 7,
   "metadata": {
    "collapsed": false,
    "solution": "More fun"
   },
   "outputs": [],
   "source": [
    "world = TurtleWorld()\n",
    "squirtle = Turtle()\n",
    "\n",
    "def archimedean_spiral(squirtle, a, b):\n",
    "    theta = 0.0\n",
    "    length = 3\n",
    "    while theta <= 1000:\n",
    "        fd(squirtle, length)\n",
    "        dtheta = 1 / (a + b*theta)\n",
    "        lt(squirtle, dtheta)\n",
    "        theta = theta + dtheta\n",
    "    \n",
    "archimedean_spiral(squirtle, 10 ,10)\n",
    "    "
   ]
  },
  {
   "cell_type": "markdown",
   "metadata": {},
   "source": [
    "## Reading Journal feedback\n",
    "\n",
    "Have any comments on this Reading Journal? Feel free to leave them below and we'll read them when you submit your journal entry. This could include suggestions to improve the exercises, topics you'd like to see covered in class next time, or other feedback.\n",
    "\n",
    "If you have Python questions or run into problems while completing the reading, you should post them to Piazza instead so you can get a quick response before your journal is submitted."
   ]
  },
  {
   "cell_type": "markdown",
   "metadata": {},
   "source": [
    " "
   ]
  }
 ],
 "metadata": {
  "kernelspec": {
   "display_name": "Python 2",
   "language": "python",
   "name": "python2"
  },
  "language_info": {
   "codemirror_mode": {
    "name": "ipython",
    "version": 2
   },
   "file_extension": ".py",
   "mimetype": "text/x-python",
   "name": "python",
   "nbconvert_exporter": "python",
   "pygments_lexer": "ipython2",
   "version": "2.7.6"
  }
 },
 "nbformat": 4,
 "nbformat_minor": 0
}
